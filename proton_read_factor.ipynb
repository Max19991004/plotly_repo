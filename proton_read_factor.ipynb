{
 "cells": [
  {
   "cell_type": "code",
   "execution_count": null,
   "id": "79636e79-c16d-45d6-95c2-0c4359aa120a",
   "metadata": {},
   "outputs": [],
   "source": [
    "from proton_driver import client\n",
    "import time\n",
    "import plotly.graph_objs as go\n",
    "from IPython.display import clear_output, display\n",
    "\n",
    "c = client.Client(host='192.168.1.10', port=8463)"
   ]
  },
  {
   "cell_type": "code",
   "execution_count": null,
   "id": "667da706-d3fd-4499-aa10-203accc97fe9",
   "metadata": {},
   "outputs": [],
   "source": [
    "num = 1\n",
    "time = 1"
   ]
  },
  {
   "cell_type": "code",
   "execution_count": null,
   "id": "eb4c2748-1d46-407f-801b-f306fd1f67c2",
   "metadata": {},
   "outputs": [],
   "source": [
    "def fetch_data():\n",
    "    rows = c.execute_iter(\n",
    "        f\"SELECT TIMESTAMP, price FROM price_data ORDER BY TIMESTAMP ASC LIMIT {num}\"\n",
    "    )\n",
    "    data = list(rows)\n",
    "    timestamps = [row[0] for row in data]\n",
    "    prices = [row[1] for row in data]\n",
    "    return timestamps, prices"
   ]
  },
  {
   "cell_type": "code",
   "execution_count": null,
   "id": "ad2224ff-a9c8-46e9-abdc-8a6d553051ea",
   "metadata": {},
   "outputs": [],
   "source": [
    "history_timestamps = []\n",
    "history_prices = []\n",
    "\n",
    "while True:\n",
    "    timestamps, prices = fetch_data()\n",
    "    # 只取最新一条\n",
    "    latest_timestamp = timestamps[-1]\n",
    "    latest_price = prices[-1]\n",
    "    print(f\"最新时间: {latest_timestamp}, 最新价格: {latest_price}\")\n",
    "    history_timestamps.append(latest_timestamp)\n",
    "    history_prices.append(latest_price)\n",
    "    time.sleep(time_sleep)"
   ]
  }
 ],
 "metadata": {
  "kernelspec": {
   "display_name": "Python 3 (ipykernel)",
   "language": "python",
   "name": "python3"
  },
  "language_info": {
   "codemirror_mode": {
    "name": "ipython",
    "version": 3
   },
   "file_extension": ".py",
   "mimetype": "text/x-python",
   "name": "python",
   "nbconvert_exporter": "python",
   "pygments_lexer": "ipython3",
   "version": "3.10.16"
  }
 },
 "nbformat": 4,
 "nbformat_minor": 5
}
