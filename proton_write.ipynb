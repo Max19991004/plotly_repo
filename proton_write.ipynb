{
 "cells": [
  {
   "cell_type": "code",
   "execution_count": 16,
   "id": "168a39de-4ac2-49e2-9716-b1b0f97877c9",
   "metadata": {},
   "outputs": [],
   "source": [
    "import time\n",
    "import datetime\n",
    "import random\n",
    "from proton_driver import client\n",
    "import plotly.graph_objs as go\n",
    "from IPython.display import clear_output, display"
   ]
  },
  {
   "cell_type": "code",
   "execution_count": 17,
   "id": "0ffd16f4-82f3-41dc-afc2-b119b386293f",
   "metadata": {},
   "outputs": [],
   "source": [
    "c = client.Client(host='192.168.1.10', port=8463)"
   ]
  },
  {
   "cell_type": "code",
   "execution_count": 18,
   "id": "01391259-5a79-41ec-9d2d-e345eab56ead",
   "metadata": {},
   "outputs": [
    {
     "data": {
      "text/plain": [
       "[]"
      ]
     },
     "execution_count": 18,
     "metadata": {},
     "output_type": "execute_result"
    }
   ],
   "source": [
    "# create a random stream if not exist\n",
    "c.execute(\"\"\"\n",
    "        CREATE STREAM IF NOT EXISTS price_data(\n",
    "            TIMESTAMP datetime,\n",
    "            price float\n",
    "        )\n",
    "\"\"\")"
   ]
  },
  {
   "cell_type": "code",
   "execution_count": 19,
   "id": "2870c01e-d26d-4a8a-90aa-6e04832e03cb",
   "metadata": {},
   "outputs": [],
   "source": [
    "base_price = 100\n",
    "current_price = base_price\n",
    "volatility = 0.02\n",
    "\n",
    "def generate_price():\n",
    "    global current_price\n",
    "    change_percent = random.uniform(-volatility, volatility)\n",
    "    current_price = current_price * (1 + change_percent)\n",
    "    noise = random.uniform(-0.5, 0.5)\n",
    "\n",
    "    if current_price < 10:\n",
    "        current_price = 10 + random.uniform(-0.5,0.5)\n",
    "    return round(current_price, 2)"
   ]
  },
  {
   "cell_type": "code",
   "execution_count": 20,
   "id": "16661821-8b73-4b34-90bf-dbf9c8ddb056",
   "metadata": {},
   "outputs": [],
   "source": [
    "def write_data():\n",
    "    counter = 0\n",
    "    try:\n",
    "        while True:\n",
    "            timestamp = datetime.datetime.now()\n",
    "            price = generate_price()\n",
    "            c.execute( f\"\"\"\n",
    "                INSERT INTO price_data (TIMESTAMP, price)\n",
    "                VALUES ('{timestamp.strftime(\"%Y-%m-%d %H:%M:%S\")}', {price})\n",
    "        \"\"\")\n",
    "            print(f\"Inserted: {timestamp}, Price: {price}\")\n",
    "            counter += 1\n",
    "            time.sleep(1)  # Sleep for 1 second between inserts\n",
    "    \n",
    "    except KeyboardInterrupt:\n",
    "        print(f\"Inserted {counter} records before stopping.\")\n",
    "    "
   ]
  },
  {
   "cell_type": "code",
   "execution_count": null,
   "id": "77540901",
   "metadata": {
    "scrolled": true
   },
   "outputs": [
    {
     "name": "stdout",
     "output_type": "stream",
     "text": [
      "Inserted: 2025-06-06 14:16:19.250024, Price: 100.29\n",
      "Inserted: 2025-06-06 14:16:20.258800, Price: 100.46\n",
      "Inserted: 2025-06-06 14:16:21.274712, Price: 99.71\n",
      "Inserted: 2025-06-06 14:16:22.291961, Price: 101.32\n",
      "Inserted: 2025-06-06 14:16:23.306914, Price: 102.47\n",
      "Inserted: 2025-06-06 14:16:24.319756, Price: 102.72\n",
      "Inserted: 2025-06-06 14:16:25.328379, Price: 101.94\n",
      "Inserted: 2025-06-06 14:16:26.339730, Price: 102.92\n",
      "Inserted: 2025-06-06 14:16:27.352314, Price: 102.87\n",
      "Inserted: 2025-06-06 14:16:28.367878, Price: 101.03\n",
      "Inserted: 2025-06-06 14:16:29.379450, Price: 101.66\n",
      "Inserted: 2025-06-06 14:16:30.396830, Price: 102.93\n",
      "Inserted: 2025-06-06 14:16:31.408625, Price: 104.41\n",
      "Inserted: 2025-06-06 14:16:32.425216, Price: 102.85\n",
      "Inserted: 2025-06-06 14:16:33.435500, Price: 101.34\n",
      "Inserted: 2025-06-06 14:16:34.449802, Price: 103.28\n",
      "Inserted: 2025-06-06 14:16:35.464916, Price: 104.74\n",
      "Inserted: 2025-06-06 14:16:36.476577, Price: 106.11\n",
      "Inserted: 2025-06-06 14:16:37.489006, Price: 105.99\n",
      "Inserted: 2025-06-06 14:16:38.504852, Price: 106.54\n",
      "Inserted: 2025-06-06 14:16:39.518610, Price: 105.38\n",
      "Inserted: 2025-06-06 14:16:40.530554, Price: 103.66\n",
      "Inserted: 2025-06-06 14:16:41.544209, Price: 104.22\n",
      "Inserted: 2025-06-06 14:16:42.565244, Price: 105.64\n",
      "Inserted: 2025-06-06 14:16:43.580346, Price: 106.24\n",
      "Inserted: 2025-06-06 14:16:44.586643, Price: 108.07\n",
      "Inserted: 2025-06-06 14:16:45.605496, Price: 106.01\n",
      "Inserted: 2025-06-06 14:16:46.620786, Price: 104.94\n",
      "Inserted: 2025-06-06 14:16:47.633913, Price: 103.22\n",
      "Inserted: 2025-06-06 14:16:48.639160, Price: 104.85\n"
     ]
    }
   ],
   "source": [
    "write_data()"
   ]
  },
  {
   "cell_type": "code",
   "execution_count": null,
   "id": "864d85f9-3225-4e7d-b485-8ac140a61c06",
   "metadata": {},
   "outputs": [],
   "source": [
    "def test():\n",
    "    rows = c.execute_iter(\n",
    "        \"SELECT TIMESTAMP, price FROM price_data ORDER BY TIMESTAMP DESC LIMIT 10\"\n",
    "    )\n",
    "    for row in rows:\n",
    "        print(row)"
   ]
  }
 ],
 "metadata": {
  "kernelspec": {
   "display_name": "Python 3 (ipykernel)",
   "language": "python",
   "name": "python3"
  },
  "language_info": {
   "codemirror_mode": {
    "name": "ipython",
    "version": 3
   },
   "file_extension": ".py",
   "mimetype": "text/x-python",
   "name": "python",
   "nbconvert_exporter": "python",
   "pygments_lexer": "ipython3",
   "version": "3.10.16"
  }
 },
 "nbformat": 4,
 "nbformat_minor": 5
}
