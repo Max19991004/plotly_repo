{
 "cells": [
  {
   "cell_type": "code",
   "execution_count": 3,
   "id": "77ebca56-449b-452a-bc77-dd5ef88836eb",
   "metadata": {},
   "outputs": [
    {
     "data": {
      "text/html": [
       "\n",
       "        <iframe\n",
       "            width=\"100%\"\n",
       "            height=\"650\"\n",
       "            src=\"http://127.0.0.1:8050/\"\n",
       "            frameborder=\"0\"\n",
       "            allowfullscreen\n",
       "            \n",
       "        ></iframe>\n",
       "        "
      ],
      "text/plain": [
       "<IPython.lib.display.IFrame at 0x2031c5b7670>"
      ]
     },
     "metadata": {},
     "output_type": "display_data"
    }
   ],
   "source": [
    "# 导入 Dash 相关库\n",
    "import dash\n",
    "from dash import dcc, html  # dcc 是 Dash 核心组件库，html 是 HTML 组件库\n",
    "\n",
    "# 创建一个 Dash 应用实例\n",
    "app = dash.Dash(__name__)\n",
    "\n",
    "# 定义应用的布局\n",
    "app.layout = html.Div(children=[\n",
    "    # 添加一个标题\n",
    "    html.H1(children='你好，Dash！'),\n",
    "\n",
    "    # 添加一段描述文字\n",
    "    html.Div(children='''\n",
    "        Dash：一个用于 Python 的 Web 应用框架。\n",
    "    '''),\n",
    "\n",
    "    # 添加一个图表\n",
    "    dcc.Graph(\n",
    "        id='example-graph',  # 图表的 ID，用于回调函数\n",
    "        figure={\n",
    "            'data': [  # 图表的数据\n",
    "                {'x': [1, 2, 3], 'y': [4, 1, 2], 'type': 'bar', 'name': '上海'},\n",
    "                {'x': [1, 2, 3], 'y': [2, 4, 5], 'type': 'bar', 'name': '北京'},\n",
    "            ],\n",
    "            'layout': {  # 图表的布局\n",
    "                'title': 'Dash 数据可视化示例'  # 图表的标题\n",
    "            }\n",
    "        }\n",
    "    )\n",
    "])\n",
    "\n",
    "# 运行应用\n",
    "if __name__ == '__main__':\n",
    "    app.run(debug=True)  # 启动应用，debug=True 表示开启调试模式"
   ]
  },
  {
   "cell_type": "code",
   "execution_count": null,
   "id": "a5e9402c-7f22-4f88-8672-14d4ac79a6bf",
   "metadata": {},
   "outputs": [],
   "source": []
  }
 ],
 "metadata": {
  "kernelspec": {
   "display_name": "Python 3 (ipykernel)",
   "language": "python",
   "name": "python3"
  },
  "language_info": {
   "codemirror_mode": {
    "name": "ipython",
    "version": 3
   },
   "file_extension": ".py",
   "mimetype": "text/x-python",
   "name": "python",
   "nbconvert_exporter": "python",
   "pygments_lexer": "ipython3",
   "version": "3.10.16"
  }
 },
 "nbformat": 4,
 "nbformat_minor": 5
}
