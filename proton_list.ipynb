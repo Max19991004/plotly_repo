{
 "cells": [
  {
   "cell_type": "code",
   "execution_count": 6,
   "id": "b7f6a11f-ccdc-4ac9-b180-44e5c0820b1d",
   "metadata": {},
   "outputs": [
    {
     "data": {
      "text/html": [
       "\n",
       "        <iframe\n",
       "            width=\"100%\"\n",
       "            height=\"650\"\n",
       "            src=\"http://127.0.0.1:8051/\"\n",
       "            frameborder=\"0\"\n",
       "            allowfullscreen\n",
       "            \n",
       "        ></iframe>\n",
       "        "
      ],
      "text/plain": [
       "<IPython.lib.display.IFrame at 0x134c1883100>"
      ]
     },
     "metadata": {},
     "output_type": "display_data"
    }
   ],
   "source": [
    "from dash import Dash, html, dcc, Output, Input\n",
    "import plotly.graph_objs as go\n",
    "import pandas as pd\n",
    "\n",
    "app = Dash()\n",
    "\n",
    "# 示例股票数据\n",
    "stock_data = {\n",
    "    '上证指数': [150, 152, 153, 151, 154],\n",
    "    '深证指数': [2700, 2720, 2710, 2730, 2740],\n",
    "    '创业板指': [300, 305, 307, 306, 308]\n",
    "}\n",
    "dates = pd.date_range('2024-06-01', periods=5)\n",
    "\n",
    "app.layout = html.Div(\n",
    "    style={'backgroundColor': '#111', 'padding': '30px'},\n",
    "    children=[\n",
    "        html.H1('股票价格走势', style={'textAlign': 'center', 'color': 'white'}),\n",
    "        html.Div([\n",
    "            # 左侧列表\n",
    "            html.Div([\n",
    "                dcc.Dropdown(\n",
    "                    id='stock-list',\n",
    "                    options=[{'label': name, 'value': name} for name in stock_data.keys()],\n",
    "                    value='上证指数',\n",
    "                    style={'height': '20px', 'width': '120px'}\n",
    "                )\n",
    "            ], style={'width': '18%', 'display': 'inline-block', 'verticalAlign': 'top', 'backgroundColor': '#222', 'padding': '20px', 'borderRadius': '8px'}),\n",
    "            # 右侧图表\n",
    "            html.Div([\n",
    "                dcc.Graph(id='stock-graph', config={'displayModeBar': False})\n",
    "            ], style={'width': '80%', 'display': 'inline-block', 'verticalAlign': 'top'}),\n",
    "        ], style={'width': '100%', 'display': 'flex', 'justifyContent': 'space-between'}),\n",
    "    ]\n",
    ")\n",
    "\n",
    "@app.callback(\n",
    "    Output('stock-graph', 'figure'),\n",
    "    Input('stock-list', 'value')\n",
    ")\n",
    "def update_graph(selected_stock):\n",
    "    y = stock_data[selected_stock]\n",
    "    fig = go.Figure(\n",
    "        go.Scatter(x=dates, y=y, mode='lines+markers', line=dict(color='deepskyblue'))\n",
    "    )\n",
    "    fig.update_layout(\n",
    "        title=f\"{selected_stock} 价格走势\",\n",
    "        plot_bgcolor='#222',\n",
    "        paper_bgcolor='#222',\n",
    "        font_color='white',\n",
    "        xaxis_title='日期',\n",
    "        yaxis_title='价格',\n",
    "        margin=dict(l=30, r=10, t=40, b=30),\n",
    "        height=400\n",
    "    )\n",
    "    return fig\n",
    "\n",
    "if __name__ == '__main__':\n",
    "    app.run(debug=True, port=8051)"
   ]
  },
  {
   "cell_type": "code",
   "execution_count": null,
   "id": "cf4dd636-77f9-4029-a3ed-057bfb621892",
   "metadata": {},
   "outputs": [],
   "source": []
  }
 ],
 "metadata": {
  "kernelspec": {
   "display_name": "Python 3 (ipykernel)",
   "language": "python",
   "name": "python3"
  },
  "language_info": {
   "codemirror_mode": {
    "name": "ipython",
    "version": 3
   },
   "file_extension": ".py",
   "mimetype": "text/x-python",
   "name": "python",
   "nbconvert_exporter": "python",
   "pygments_lexer": "ipython3",
   "version": "3.10.16"
  }
 },
 "nbformat": 4,
 "nbformat_minor": 5
}
