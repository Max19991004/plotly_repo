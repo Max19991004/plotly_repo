{
 "cells": [
  {
   "cell_type": "code",
   "execution_count": 3,
   "id": "f8391e50-7d62-4241-84a0-1fb2da65a70a",
   "metadata": {},
   "outputs": [],
   "source": [
    "d1 = {'a': 'some value', 'b':[1,2,3,4]}"
   ]
  },
  {
   "cell_type": "code",
   "execution_count": 10,
   "id": "85f87a41-2013-47dc-81a2-caa43fea5bf8",
   "metadata": {},
   "outputs": [],
   "source": [
    "value_list = list(d1.values())"
   ]
  },
  {
   "cell_type": "code",
   "execution_count": 11,
   "id": "cf1df703-8268-4470-a31e-57c4fffac98c",
   "metadata": {},
   "outputs": [],
   "source": [
    "key_list = list(d1.keys())"
   ]
  },
  {
   "cell_type": "code",
   "execution_count": 12,
   "id": "b07600dc-9c0d-4418-b0ff-c9cc81aa2f3f",
   "metadata": {},
   "outputs": [],
   "source": [
    "mapping = {}\n",
    "for key, value in zip(key_list, value_list):\n",
    "\tmapping[key] = value"
   ]
  },
  {
   "cell_type": "code",
   "execution_count": 13,
   "id": "ae47f24d-40f5-4680-9818-1b0ca5dea340",
   "metadata": {},
   "outputs": [
    {
     "name": "stdout",
     "output_type": "stream",
     "text": [
      "{'a': 'some value', 'b': [1, 2, 3, 4]}\n"
     ]
    }
   ],
   "source": [
    "print(mapping)"
   ]
  },
  {
   "cell_type": "code",
   "execution_count": 20,
   "id": "03d34b7e-66a7-4634-aeac-c505aa355c2c",
   "metadata": {},
   "outputs": [
    {
     "name": "stdout",
     "output_type": "stream",
     "text": [
      "<class 'tuple'>\n"
     ]
    }
   ],
   "source": [
    "seq1 = ['a','v','c']\n",
    "seq2 = ['f','d','d']\n",
    "result = tuple(zip(seq1, seq2))\n",
    "print(type(result))"
   ]
  },
  {
   "cell_type": "code",
   "execution_count": 21,
   "id": "a8dd5874-b240-461c-a613-3bf94cfd5939",
   "metadata": {},
   "outputs": [
    {
     "name": "stdout",
     "output_type": "stream",
     "text": [
      "0, a, f\n",
      "1, v, d\n",
      "2, c, d\n"
     ]
    }
   ],
   "source": [
    "for index, (a, b) in enumerate(zip(seq1,seq2)):\n",
    "\tprint(f'{index}, {a}, {b}')"
   ]
  },
  {
   "cell_type": "code",
   "execution_count": 22,
   "id": "8722283e-4302-4381-bd0f-a5bc417b670f",
   "metadata": {},
   "outputs": [
    {
     "data": {
      "text/plain": [
       "['CATS', 'DOG', 'LIVE', 'FUCK']"
      ]
     },
     "execution_count": 22,
     "metadata": {},
     "output_type": "execute_result"
    }
   ],
   "source": [
    "strings = ['cats', 'dog','is','live','as','fuck','sh']\n",
    "\n",
    "[x.upper() for x in strings if len(x) > 2]"
   ]
  },
  {
   "cell_type": "code",
   "execution_count": null,
   "id": "ee0c9535-6035-43e6-88b2-1ccdc1827a9e",
   "metadata": {},
   "outputs": [],
   "source": []
  }
 ],
 "metadata": {
  "kernelspec": {
   "display_name": "Python 3 (ipykernel)",
   "language": "python",
   "name": "python3"
  },
  "language_info": {
   "codemirror_mode": {
    "name": "ipython",
    "version": 3
   },
   "file_extension": ".py",
   "mimetype": "text/x-python",
   "name": "python",
   "nbconvert_exporter": "python",
   "pygments_lexer": "ipython3",
   "version": "3.10.16"
  }
 },
 "nbformat": 4,
 "nbformat_minor": 5
}
